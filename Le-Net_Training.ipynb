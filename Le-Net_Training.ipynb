{
 "cells": [
  {
   "cell_type": "code",
   "execution_count": 17,
   "id": "apparent-repair",
   "metadata": {},
   "outputs": [],
   "source": [
    "import os\n",
    "os.environ['TF_CPP_MIN_LOG_LEVEL'] = '3'\n",
    "\n",
    "from tensorflow.keras.preprocessing.image import ImageDataGenerator\n",
    "from tensorflow.keras.applications import MobileNetV2\n",
    "from tensorflow.keras.layers import AveragePooling2D\n",
    "from tensorflow.keras.layers import Conv2D, MaxPool2D\n",
    "from tensorflow.keras.layers import Dropout\n",
    "from tensorflow.keras.layers import Flatten\n",
    "from tensorflow.keras.layers import Dense\n",
    "from tensorflow.keras.layers import Input\n",
    "from tensorflow.keras.models import Model\n",
    "from tensorflow.keras.models import Sequential\n",
    "from tensorflow.keras.optimizers import Adam\n",
    "from tensorflow.keras.preprocessing.image import img_to_array\n",
    "from tensorflow.keras.preprocessing.image import load_img\n",
    "from tensorflow.keras.utils import to_categorical\n",
    "from tensorflow.keras.callbacks import ModelCheckpoint, EarlyStopping, TensorBoard\n",
    "from tensorflow.keras.models import model_from_json\n",
    "from sklearn.preprocessing import LabelEncoder\n",
    "from sklearn.model_selection import train_test_split\n",
    "import matplotlib.pyplot as plt\n",
    "import matplotlib.gridspec as gridspec\n",
    "import glob\n",
    "import datetime\n",
    "import numpy as np"
   ]
  },
  {
   "cell_type": "code",
   "execution_count": 18,
   "id": "compound-indonesian",
   "metadata": {},
   "outputs": [
    {
     "data": {
      "image/png": "[encoded data removed]",
      "text/plain": [
       "<Figure size 720x576 with 12 Axes>"
      ]
     },
     "metadata": {
      "needs_background": "light"
     },
     "output_type": "display_data"
    }
   ],
   "source": [
    "dataset_paths = glob.glob(\"dataset_characters/**/*.jpg\")\n",
    "\n",
    "cols=4\n",
    "rows=3\n",
    "fig = plt.figure(figsize=(10,8))\n",
    "plt.rcParams.update({\"font.size\":14})\n",
    "grid = gridspec.GridSpec(ncols=cols,nrows=rows,figure=fig)\n",
    "np.random.seed(45)\n",
    "rand = np.random.randint(0,len(dataset_paths),size=(cols*rows))\n",
    "# Plot image\n",
    "for i in range(cols*rows):\n",
    "    fig.add_subplot(grid[i])\n",
    "    image = load_img(dataset_paths[rand[i]])\n",
    "    label = dataset_paths[rand[i]].split(os.path.sep)[-2]\n",
    "    plt.title('\"{:s}\"'.format(label))\n",
    "    plt.axis(False)\n",
    "    plt.imshow(image)\n",
    "\n",
    "plt.savefig(\"Visualize_dataset.jpg\",dpi=300)  "
   ]
  },
  {
   "cell_type": "code",
   "execution_count": 19,
   "id": "auburn-saver",
   "metadata": {},
   "outputs": [
    {
     "name": "stdout",
     "output_type": "stream",
     "text": [
      "[INFO] Find 37623 images with 36 classes\n"
     ]
    }
   ],
   "source": [
    "# Arange input data and corresponding labels\n",
    "X=[]\n",
    "labels=[]\n",
    "\n",
    "for image_path in dataset_paths:\n",
    "  label = image_path.split(os.path.sep)[-2]\n",
    "  image=load_img(image_path,target_size=(80,80))\n",
    "  image=img_to_array(image)\n",
    "\n",
    "  X.append(image)\n",
    "  labels.append(label)\n",
    "\n",
    "X = np.array(X,dtype=\"float16\")\n",
    "labels = np.array(labels)\n",
    "\n",
    "print(\"[INFO] Find {:d} images with {:d} classes\".format(len(X),len(set(labels))))"
   ]
  },
  {
   "cell_type": "code",
   "execution_count": 20,
   "id": "suited-publication",
   "metadata": {},
   "outputs": [],
   "source": [
    "# perform one-hot encoding on the labels\n",
    "lb = LabelEncoder()\n",
    "lb.fit(labels)\n",
    "labels = lb.transform(labels)\n",
    "y = to_categorical(labels)\n",
    "\n",
    "# save label file so we can use in another script\n",
    "np.save('license_character_classes_Le_Net.npy', lb.classes_)"
   ]
  },
  {
   "cell_type": "code",
   "execution_count": 22,
   "id": "primary-shanghai",
   "metadata": {},
   "outputs": [
    {
     "name": "stdout",
     "output_type": "stream",
     "text": [
      "(33860, 80, 80, 3)\n",
      "(3763, 80, 80, 3)\n",
      "(33860, 36)\n"
     ]
    }
   ],
   "source": [
    "#Train the model by splitting the test in ratio of 0.10\n",
    "(trainX, testX, trainY, testY) = train_test_split(X, y, test_size=0.10, stratify=y, random_state=42)\n",
    "print(trainX.shape)\n",
    "print(testX.shape)\n",
    "print(trainY.shape)"
   ]
  },
  {
   "cell_type": "code",
   "execution_count": 6,
   "id": "assisted-phrase",
   "metadata": {},
   "outputs": [
    {
     "name": "stdout",
     "output_type": "stream",
     "text": [
      "Model: \"sequential\"\n",
      "_________________________________________________________________\n",
      "Layer (type)                 Output Shape              Param #   \n",
      "=================================================================\n",
      "conv2d (Conv2D)              (None, 80, 80, 20)        1520      \n",
      "_________________________________________________________________\n",
      "max_pooling2d (MaxPooling2D) (None, 40, 40, 20)        0         \n",
      "_________________________________________________________________\n",
      "conv2d_1 (Conv2D)            (None, 40, 40, 50)        25050     \n",
      "_________________________________________________________________\n",
      "max_pooling2d_1 (MaxPooling2 (None, 20, 20, 50)        0         \n",
      "_________________________________________________________________\n",
      "flatten (Flatten)            (None, 20000)             0         \n",
      "_________________________________________________________________\n",
      "dense (Dense)                (None, 500)               10000500  \n",
      "_________________________________________________________________\n",
      "dense_1 (Dense)              (None, 36)                18036     \n",
      "=================================================================\n",
      "Total params: 10,045,106\n",
      "Trainable params: 10,045,106\n",
      "Non-trainable params: 0\n",
      "_________________________________________________________________\n",
      "None\n",
      "Epoch 1/30\n",
      "  1/529 [..............................] - ETA: 0s - loss: 80.7245 - accuracy: 0.0469WARNING:tensorflow:From C:\\Users\\Majid\\anaconda3\\envs\\tf_gpu\\lib\\site-packages\\tensorflow\\python\\ops\\summary_ops_v2.py:1277: stop (from tensorflow.python.eager.profiler) is deprecated and will be removed after 2020-07-01.\n",
      "Instructions for updating:\n",
      "use `tf.profiler.experimental.stop` instead.\n",
      "529/529 [==============================] - ETA: 0s - loss: 2.2558 - accuracy: 0.8004\n",
      "Epoch 00001: saving model to License_character_recognition_Le_Net.h5\n",
      "529/529 [==============================] - 113s 214ms/step - loss: 2.2558 - accuracy: 0.8004 - val_loss: 0.4708 - val_accuracy: 0.8858\n",
      "Epoch 2/30\n",
      "529/529 [==============================] - ETA: 0s - loss: 0.2614 - accuracy: 0.9285\n",
      "Epoch 00002: saving model to License_character_recognition_Le_Net.h5\n",
      "529/529 [==============================] - 118s 222ms/step - loss: 0.2614 - accuracy: 0.9285 - val_loss: 0.3333 - val_accuracy: 0.9184\n",
      "Epoch 3/30\n",
      "529/529 [==============================] - ETA: 0s - loss: 0.1207 - accuracy: 0.9670\n",
      "Epoch 00003: saving model to License_character_recognition_Le_Net.h5\n",
      "529/529 [==============================] - 130s 246ms/step - loss: 0.1207 - accuracy: 0.9670 - val_loss: 0.2964 - val_accuracy: 0.9302\n",
      "Epoch 4/30\n",
      "529/529 [==============================] - ETA: 0s - loss: 0.0585 - accuracy: 0.9840\n",
      "Epoch 00004: saving model to License_character_recognition_Le_Net.h5\n",
      "529/529 [==============================] - 158s 299ms/step - loss: 0.0585 - accuracy: 0.9840 - val_loss: 0.2264 - val_accuracy: 0.9423\n",
      "Epoch 5/30\n",
      "529/529 [==============================] - ETA: 0s - loss: 0.0468 - accuracy: 0.9871\n",
      "Epoch 00005: saving model to License_character_recognition_Le_Net.h5\n",
      "529/529 [==============================] - 165s 311ms/step - loss: 0.0468 - accuracy: 0.9871 - val_loss: 0.2600 - val_accuracy: 0.9402\n",
      "Epoch 6/30\n",
      "529/529 [==============================] - ETA: 0s - loss: 0.0468 - accuracy: 0.9864\n",
      "Epoch 00006: saving model to License_character_recognition_Le_Net.h5\n",
      "529/529 [==============================] - 158s 298ms/step - loss: 0.0468 - accuracy: 0.9864 - val_loss: 0.2696 - val_accuracy: 0.9388\n",
      "Epoch 7/30\n",
      "529/529 [==============================] - ETA: 0s - loss: 0.0511 - accuracy: 0.9853\n",
      "Epoch 00007: saving model to License_character_recognition_Le_Net.h5\n",
      "529/529 [==============================] - 159s 300ms/step - loss: 0.0511 - accuracy: 0.9853 - val_loss: 0.2721 - val_accuracy: 0.9407\n",
      "Epoch 8/30\n",
      "529/529 [==============================] - ETA: 0s - loss: 0.0500 - accuracy: 0.9873\n",
      "Epoch 00008: saving model to License_character_recognition_Le_Net.h5\n",
      "529/529 [==============================] - 157s 296ms/step - loss: 0.0500 - accuracy: 0.9873 - val_loss: 0.2299 - val_accuracy: 0.9453\n",
      "Epoch 9/30\n",
      "529/529 [==============================] - ETA: 0s - loss: 0.0346 - accuracy: 0.9909\n",
      "Epoch 00009: saving model to License_character_recognition_Le_Net.h5\n",
      "529/529 [==============================] - 154s 292ms/step - loss: 0.0346 - accuracy: 0.9909 - val_loss: 0.2266 - val_accuracy: 0.9507\n",
      "Epoch 00009: early stopping\n"
     ]
    }
   ],
   "source": [
    "img_shape = ( 80, 80 , 3)\n",
    "\n",
    "#Create a model for Training and Testing\n",
    "def create_model(lr=1e-4,decay=1e-4/25, training=False,output_shape=y.shape[1]):\n",
    "    model = Sequential()\n",
    "\n",
    "    model.add(Conv2D(20, (5,5), padding=\"same\", input_shape=img_shape, activation=\"relu\"))\n",
    "    model.add(MaxPool2D(pool_size=(2,2) ,strides=(2,2)))\n",
    "\n",
    "    model.add(Conv2D(50, (5,5), padding=\"same\", activation=\"relu\"))\n",
    "    model.add(MaxPool2D(pool_size=(2,2) ,strides=(2,2)))\n",
    "\n",
    "    model.add(Flatten())\n",
    "    model.add(Dense(500, activation=\"relu\"))\n",
    "    model.add(Dense(output_shape, activation=\"softmax\"))\n",
    "   \n",
    "    \n",
    "    if training:\n",
    "        # compile model\n",
    "        optimizer = Adam(lr=lr, decay = decay)\n",
    "        model.compile(loss=\"categorical_crossentropy\", optimizer=optimizer,metrics=[\"accuracy\"])    \n",
    "        \n",
    "    return model\n",
    "\n",
    "# initilaize initial hyperparameter\n",
    "INIT_LR = 1e-4\n",
    "EPOCHS = 30\n",
    "\n",
    "model = create_model(lr=INIT_LR, decay=INIT_LR/EPOCHS,training=True)\n",
    "\n",
    "print(model.summary())\n",
    "\n",
    "BATCH_SIZE = 64\n",
    "\n",
    "log_dir = \"./logs/fit/\" + datetime.datetime.now().strftime(\"%Y%m%d-%H%M%S\") + 'Le_Net'\n",
    "\n",
    "my_checkpointer = [\n",
    "                EarlyStopping(monitor='val_loss', patience=5, verbose=1),\n",
    "                ModelCheckpoint(filepath=\"License_character_recognition_Le_Net.h5\", verbose=1, save_weights_only=True, restore_best_weights = True),\n",
    "                TensorBoard(log_dir=log_dir, histogram_freq=1)\n",
    "                ]\n",
    "\n",
    "result = model.fit(trainX, trainY, batch_size=BATCH_SIZE, \n",
    "                   steps_per_epoch=len(trainX) // BATCH_SIZE, \n",
    "                   validation_data=(testX, testY), \n",
    "                   validation_steps=len(testX) // BATCH_SIZE, \n",
    "                   epochs=EPOCHS, callbacks=my_checkpointer, shuffle=True)\n",
    "\n",
    "# save model architectur as json file\n",
    "model_json = model.to_json()\n",
    "with open(\"MobileNets_character_recognition_Le_Net.json\", \"w\") as json_file:\n",
    "  json_file.write(model_json)"
   ]
  },
  {
   "cell_type": "code",
   "execution_count": 1,
   "id": "sonic-nickel",
   "metadata": {},
   "outputs": [],
   "source": [
    "#Imports Needed to Print Confusion Matrix\n",
    "import matplotlib.pyplot as plt\n",
    "import sklearn\n",
    "from sklearn.metrics import classification_report, confusion_matrix\n",
    "import numpy as np\n",
    "from tensorflow.keras.models import load_model\n",
    "from tensorflow.keras.models import model_from_json\n",
    "from tensorflow.keras.preprocessing.image import ImageDataGenerator"
   ]
  },
  {
   "cell_type": "code",
   "execution_count": 2,
   "id": "wired-parameter",
   "metadata": {},
   "outputs": [
    {
     "name": "stdout",
     "output_type": "stream",
     "text": [
      "Found 87724 images belonging to 36 classes.\n",
      "['0', '1', '2', '3', '4', '5', '6', '7', '8', '9', 'A', 'B', 'C', 'D', 'E', 'F', 'G', 'H', 'I', 'J', 'K', 'L', 'M', 'N', 'O', 'P', 'Q', 'R', 'S', 'T', 'U', 'V', 'W', 'X', 'Y', 'Z']\n",
      "WARNING:tensorflow:From <ipython-input-2-dcca2bfb6b62>:33: Model.predict_generator (from tensorflow.python.keras.engine.training) is deprecated and will be removed in a future version.\n",
      "Instructions for updating:\n",
      "Please use Model.predict, which supports generators.\n"
     ]
    },
    {
     "data": {
      "image/png": "[encoded data removed]",
      "text/plain": [
       "<Figure size 576x576 with 2 Axes>"
      ]
     },
     "metadata": {
      "needs_background": "light"
     },
     "output_type": "display_data"
    }
   ],
   "source": [
    "img_rows, img_cols, img_depth = 80,80,3\n",
    "batch_size = 64\n",
    "validation_data_dir = './refined_dataset/val'\n",
    "nb_validation_samples = 87724\n",
    "\n",
    "def load_model(path):\n",
    "        try:\n",
    "            path = splitext(path)[0]\n",
    "            with open('%s.json' % path, 'r') as json_file:\n",
    "                model_json = json_file.read()\n",
    "            model = model_from_json(model_json, custom_objects={})\n",
    "            model.load_weights('%s.h5' % path)\n",
    "            print(\"Loading model successfully...\")\n",
    "            return model\n",
    "        except Exception as e:\n",
    "            print(e)\n",
    "\n",
    "json_file = open('MobileNets_character_recognition_Le_Net.json', 'r')\n",
    "loaded_model_json = json_file.read()\n",
    "json_file.close()\n",
    "model = model_from_json(loaded_model_json)\n",
    "model.load_weights(\"License_character_recognition_Le_Net.h5\")\n",
    "\n",
    "validation_datagen = ImageDataGenerator()\n",
    "validation_generator = validation_datagen.flow_from_directory(validation_data_dir,target_size=(img_rows, img_cols),batch_size=batch_size,class_mode='categorical',shuffle=False)\n",
    "\n",
    "class_labels = validation_generator.class_indices\n",
    "class_labels = {v: k for k, v in class_labels.items()}\n",
    "classes = list(class_labels.values())\n",
    "print(classes)\n",
    "\n",
    "#Confusion Matrix and Classification Report\n",
    "Y_pred = model.predict_generator(validation_generator, nb_validation_samples // batch_size+1)\n",
    "y_pred = np.argmax(Y_pred, axis=1)\n",
    "\n",
    "target_names = list(class_labels.values())\n",
    "\n",
    "plt.figure(figsize=(8,8))\n",
    "cnf_matrix = confusion_matrix(validation_generator.classes, y_pred)\n",
    "\n",
    "plt.imshow(cnf_matrix, interpolation='nearest')\n",
    "plt.colorbar()\n",
    "tick_marks = np.arange(len(classes))\n",
    "_ = plt.xticks(tick_marks, classes, rotation=90)\n",
    "_ = plt.yticks(tick_marks, classes)"
   ]
  },
  {
   "cell_type": "code",
   "execution_count": null,
   "id": "satellite-profession",
   "metadata": {},
   "outputs": [],
   "source": []
  }
 ],
 "metadata": {
  "kernelspec": {
   "display_name": "Python 3",
   "language": "python",
   "name": "python3"
  },
  "language_info": {
   "codemirror_mode": {
    "name": "ipython",
    "version": 3
   },
   "file_extension": ".py",
   "mimetype": "text/x-python",
   "name": "python",
   "nbconvert_exporter": "python",
   "pygments_lexer": "ipython3",
   "version": "3.8.5"
  }
 },
 "nbformat": 4,
 "nbformat_minor": 5
}
