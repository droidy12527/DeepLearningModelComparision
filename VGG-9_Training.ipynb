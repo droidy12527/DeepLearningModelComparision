{
 "cells": [
  {
   "cell_type": "code",
   "execution_count": 2,
   "id": "becoming-adrian",
   "metadata": {},
   "outputs": [],
   "source": [
    "#All the basic Imports Needed to Run the application\n",
    "from tensorflow.keras.preprocessing.image import ImageDataGenerator\n",
    "from tensorflow.keras.models import Sequential\n",
    "from tensorflow.keras.layers import Dense, Dropout, Activation, Flatten, BatchNormalization\n",
    "from tensorflow.keras.layers import Conv2D, MaxPooling2D\n",
    "from tensorflow.keras.preprocessing.image import ImageDataGenerator\n",
    "import os"
   ]
  },
  {
   "cell_type": "code",
   "execution_count": 5,
   "id": "compound-terrorist",
   "metadata": {},
   "outputs": [
    {
     "name": "stdout",
     "output_type": "stream",
     "text": [
      "Found 307063 images belonging to 36 classes.\n",
      "Found 43904 images belonging to 36 classes.\n"
     ]
    }
   ],
   "source": [
    "#Basic Varibales for Data\n",
    "img_rows, img_cols = 32, 32\n",
    "batch_size = 16\n",
    "num_classes = 36\n",
    "\n",
    "#Declaring Variables for Train and Test Data Directory\n",
    "train_data_dir = './refined_dataset/train'\n",
    "validation_data_dir = './refined_dataset/test'\n",
    "\n",
    "#Data Augmentation to get all the Data in Different Mannner\n",
    "train_datagen = ImageDataGenerator(rescale=1./255, rotation_range=30, width_shift_range=0.3, height_shift_range=0.3, horizontal_flip=False, fill_mode='nearest')\n",
    "validation_datagen = ImageDataGenerator(rescale=1./255)\n",
    "\n",
    "#Lets Make Generators for getting The Data and Look at Size of dataset\n",
    "train_generator = train_datagen.flow_from_directory(train_data_dir, target_size=(img_rows, img_cols), batch_size=batch_size, class_mode='categorical')\n",
    "validation_generator = validation_datagen.flow_from_directory(validation_data_dir,target_size=(img_rows, img_cols),batch_size=batch_size, class_mode='categorical')"
   ]
  },
  {
   "cell_type": "code",
   "execution_count": null,
   "id": "particular-restoration",
   "metadata": {},
   "outputs": [],
   "source": []
  }
 ],
 "metadata": {
  "kernelspec": {
   "display_name": "Python 3",
   "language": "python",
   "name": "python3"
  },
  "language_info": {
   "codemirror_mode": {
    "name": "ipython",
    "version": 3
   },
   "file_extension": ".py",
   "mimetype": "text/x-python",
   "name": "python",
   "nbconvert_exporter": "python",
   "pygments_lexer": "ipython3",
   "version": "3.8.5"
  }
 },
 "nbformat": 4,
 "nbformat_minor": 5
}
