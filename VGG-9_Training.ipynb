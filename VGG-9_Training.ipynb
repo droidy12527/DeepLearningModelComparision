{
 "cells": [
  {
   "cell_type": "code",
   "execution_count": 2,
   "id": "russian-hearing",
   "metadata": {},
   "outputs": [],
   "source": [
    "#All the basic Imports Needed to Run the application\n",
    "from tensorflow.keras.preprocessing.image import ImageDataGenerator\n",
    "from tensorflow.keras.models import Sequential\n",
    "from tensorflow.keras.layers import Dense, Dropout, Activation, Flatten, BatchNormalization\n",
    "from tensorflow.keras.layers import Conv2D, MaxPooling2D\n",
    "from tensorflow.keras.preprocessing.image import ImageDataGenerator\n",
    "import os"
   ]
  },
  {
   "cell_type": "code",
   "execution_count": null,
   "id": "international-backup",
   "metadata": {},
   "outputs": [],
   "source": [
    "#Declaring Variables for Train and Test Data Directory\n",
    "train_data_dir = './refined_dataset/train'\n",
    "validation_data_dir = './refined_dataset/test'\n",
    "\n",
    "#Data Augmentation to get all the Data in Different Mannner\n",
    "train_datagen = ImageDataGenerator(rescale=1./255, rotation_range=30, width_shift_range=0.3, height_shift_range=0.3, horizontal_flip=False, fill_mode='nearest')\n",
    "validation_datagen = ImageDataGenerator(rescale=1./255)\n",
    "\n",
    "#Lets Make Generators for getting The Data and Look at Size of dataset\n",
    "train_generator = train_datagen.flow_from_directory(train_data_dir, target_size=(img_rows, img_cols), batch_size=batch_size, class_mode='categorical')"
   ]
  }
 ],
 "metadata": {
  "kernelspec": {
   "display_name": "Python 3",
   "language": "python",
   "name": "python3"
  },
  "language_info": {
   "codemirror_mode": {
    "name": "ipython",
    "version": 3
   },
   "file_extension": ".py",
   "mimetype": "text/x-python",
   "name": "python",
   "nbconvert_exporter": "python",
   "pygments_lexer": "ipython3",
   "version": "3.8.5"
  }
 },
 "nbformat": 4,
 "nbformat_minor": 5
}
